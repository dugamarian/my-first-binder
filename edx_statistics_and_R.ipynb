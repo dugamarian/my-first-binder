{
 "cells": [
  {
   "cell_type": "code",
   "execution_count": 1,
   "id": "dea91e0b",
   "metadata": {
    "collapsed": true
   },
   "outputs": [
    {
     "name": "stderr",
     "output_type": "stream",
     "text": [
      "\n",
      "Attaching package: ‘dplyr’\n",
      "\n",
      "\n",
      "The following objects are masked from ‘package:stats’:\n",
      "\n",
      "    filter, lag\n",
      "\n",
      "\n",
      "The following objects are masked from ‘package:base’:\n",
      "\n",
      "    intersect, setdiff, setequal, union\n",
      "\n",
      "\n",
      "── \u001b[1mAttaching packages\u001b[22m ─────────────────────────────────────── tidyverse 1.3.1 ──\n",
      "\n",
      "\u001b[32m✔\u001b[39m \u001b[34mggplot2\u001b[39m 3.3.5     \u001b[32m✔\u001b[39m \u001b[34mpurrr  \u001b[39m 0.3.4\n",
      "\u001b[32m✔\u001b[39m \u001b[34mtibble \u001b[39m 3.1.6     \u001b[32m✔\u001b[39m \u001b[34mstringr\u001b[39m 1.4.0\n",
      "\u001b[32m✔\u001b[39m \u001b[34mtidyr  \u001b[39m 1.1.4     \u001b[32m✔\u001b[39m \u001b[34mforcats\u001b[39m 0.5.1\n",
      "\u001b[32m✔\u001b[39m \u001b[34mreadr  \u001b[39m 2.1.1     \n",
      "\n",
      "── \u001b[1mConflicts\u001b[22m ────────────────────────────────────────── tidyverse_conflicts() ──\n",
      "\u001b[31m✖\u001b[39m \u001b[34mdplyr\u001b[39m::\u001b[32mfilter()\u001b[39m masks \u001b[34mstats\u001b[39m::filter()\n",
      "\u001b[31m✖\u001b[39m \u001b[34mdplyr\u001b[39m::\u001b[32mlag()\u001b[39m    masks \u001b[34mstats\u001b[39m::lag()\n",
      "\n"
     ]
    }
   ],
   "source": [
    "library(dplyr)\n",
    "library(tidyverse)\n",
    "library(downloader)\n",
    "library(dslabs)\n",
    "library(dplyr)\n",
    "data(nym.2002, package=\"UsingR\")\n",
    "library(rafalib)\n"
   ]
  },
  {
   "cell_type": "code",
   "execution_count": 3,
   "id": "5aa0ad30",
   "metadata": {},
   "outputs": [],
   "source": [
    "mypar(1,3)\n",
    "male <- nym.2002 %>% \n",
    "filter(gender == \"Male\") %>%\n",
    "select(time) %>% unlist()\n",
    "female <- nym.2002 %>%\n",
    "filter(gender == \"Female\") %>%\n",
    "select(time) %>% unlist()"
   ]
  },
  {
   "cell_type": "code",
   "execution_count": 5,
   "id": "7cc3565e",
   "metadata": {},
   "outputs": [
    {
     "ename": "ERROR",
     "evalue": "Error in boxplot.default(male, femalem): object 'femalem' not found\n",
     "output_type": "error",
     "traceback": [
      "Error in boxplot.default(male, femalem): object 'femalem' not found\nTraceback:\n",
      "1. boxplot(male, femalem)",
      "2. boxplot.default(male, femalem)"
     ]
    }
   ],
   "source": [
    "boxplot(male, femalem)\n",
    "hist(male$time)\n",
    "hist(femalea$time)"
   ]
  },
  {
   "cell_type": "code",
   "execution_count": 3,
   "id": "f223ec81",
   "metadata": {},
   "outputs": [
    {
     "data": {
      "text/html": [
       "<table class=\"dataframe\">\n",
       "<caption>A data.frame: 6 × 5</caption>\n",
       "<thead>\n",
       "\t<tr><th></th><th scope=col>place</th><th scope=col>gender</th><th scope=col>age</th><th scope=col>home</th><th scope=col>time</th></tr>\n",
       "\t<tr><th></th><th scope=col>&lt;dbl&gt;</th><th scope=col>&lt;fct&gt;</th><th scope=col>&lt;dbl&gt;</th><th scope=col>&lt;fct&gt;</th><th scope=col>&lt;dbl&gt;</th></tr>\n",
       "</thead>\n",
       "<tbody>\n",
       "\t<tr><th scope=row>3475</th><td> 3592</td><td>Male  </td><td>52</td><td>GBR</td><td>217.4833</td></tr>\n",
       "\t<tr><th scope=row>13594</th><td>13853</td><td>Female</td><td>40</td><td>NY </td><td>272.5500</td></tr>\n",
       "\t<tr><th scope=row>12012</th><td>12256</td><td>Male  </td><td>31</td><td>FRA</td><td>265.2833</td></tr>\n",
       "\t<tr><th scope=row>10236</th><td>10457</td><td>Female</td><td>33</td><td>MI </td><td>256.1500</td></tr>\n",
       "\t<tr><th scope=row>9476</th><td> 9686</td><td>Male  </td><td>33</td><td>NY </td><td>252.2500</td></tr>\n",
       "\t<tr><th scope=row>1720</th><td> 1784</td><td>Male  </td><td>40</td><td>NJ </td><td>201.9667</td></tr>\n",
       "</tbody>\n",
       "</table>\n"
      ],
      "text/latex": [
       "A data.frame: 6 × 5\n",
       "\\begin{tabular}{r|lllll}\n",
       "  & place & gender & age & home & time\\\\\n",
       "  & <dbl> & <fct> & <dbl> & <fct> & <dbl>\\\\\n",
       "\\hline\n",
       "\t3475 &  3592 & Male   & 52 & GBR & 217.4833\\\\\n",
       "\t13594 & 13853 & Female & 40 & NY  & 272.5500\\\\\n",
       "\t12012 & 12256 & Male   & 31 & FRA & 265.2833\\\\\n",
       "\t10236 & 10457 & Female & 33 & MI  & 256.1500\\\\\n",
       "\t9476 &  9686 & Male   & 33 & NY  & 252.2500\\\\\n",
       "\t1720 &  1784 & Male   & 40 & NJ  & 201.9667\\\\\n",
       "\\end{tabular}\n"
      ],
      "text/markdown": [
       "\n",
       "A data.frame: 6 × 5\n",
       "\n",
       "| <!--/--> | place &lt;dbl&gt; | gender &lt;fct&gt; | age &lt;dbl&gt; | home &lt;fct&gt; | time &lt;dbl&gt; |\n",
       "|---|---|---|---|---|---|\n",
       "| 3475 |  3592 | Male   | 52 | GBR | 217.4833 |\n",
       "| 13594 | 13853 | Female | 40 | NY  | 272.5500 |\n",
       "| 12012 | 12256 | Male   | 31 | FRA | 265.2833 |\n",
       "| 10236 | 10457 | Female | 33 | MI  | 256.1500 |\n",
       "| 9476 |  9686 | Male   | 33 | NY  | 252.2500 |\n",
       "| 1720 |  1784 | Male   | 40 | NJ  | 201.9667 |\n",
       "\n"
      ],
      "text/plain": [
       "      place gender age home time    \n",
       "3475   3592 Male   52  GBR  217.4833\n",
       "13594 13853 Female 40  NY   272.5500\n",
       "12012 12256 Male   31  FRA  265.2833\n",
       "10236 10457 Female 33  MI   256.1500\n",
       "9476   9686 Male   33  NY   252.2500\n",
       "1720   1784 Male   40  NJ   201.9667"
      ]
     },
     "metadata": {},
     "output_type": "display_data"
    }
   ],
   "source": [
    "head(nym.2002)"
   ]
  },
  {
   "cell_type": "code",
   "execution_count": null,
   "id": "ead2b651",
   "metadata": {},
   "outputs": [],
   "source": []
  },
  {
   "cell_type": "code",
   "execution_count": null,
   "id": "fdaa9bb7",
   "metadata": {},
   "outputs": [],
   "source": []
  },
  {
   "cell_type": "code",
   "execution_count": 10,
   "id": "54c18196",
   "metadata": {},
   "outputs": [
    {
     "data": {
      "text/html": [
       "0"
      ],
      "text/latex": [
       "0"
      ],
      "text/markdown": [
       "0"
      ],
      "text/plain": [
       "[1] 0"
      ]
     },
     "metadata": {},
     "output_type": "display_data"
    }
   ],
   "source": []
  }
 ],
 "metadata": {
  "kernelspec": {
   "display_name": "R",
   "language": "R",
   "name": "ir"
  },
  "language_info": {
   "codemirror_mode": "r",
   "file_extension": ".r",
   "mimetype": "text/x-r-source",
   "name": "R",
   "pygments_lexer": "r",
   "version": "4.1.2"
  }
 },
 "nbformat": 4,
 "nbformat_minor": 5
}

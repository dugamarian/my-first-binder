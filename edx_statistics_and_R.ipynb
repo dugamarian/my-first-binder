{
 "cells": [
  {
   "cell_type": "code",
   "execution_count": 2,
   "id": "dea91e0b",
   "metadata": {},
   "outputs": [],
   "source": [
    "library(dplyr)\n",
    "library(tidyverse)\n",
    "library(downloader)\n",
    "library(dslabs)\n",
    "library(dplyr)\n",
    "library(rafalib)\n",
    "options(digits = 2)\n",
    "data(gapminder)"
   ]
  },
  {
   "cell_type": "code",
   "execution_count": 4,
   "id": "54c18196",
   "metadata": {},
   "outputs": [
    {
     "data": {
      "text/html": [
       "<table class=\"dataframe\">\n",
       "<caption>A data.frame: 6 × 9</caption>\n",
       "<thead>\n",
       "\t<tr><th></th><th scope=col>country</th><th scope=col>year</th><th scope=col>infant_mortality</th><th scope=col>life_expectancy</th><th scope=col>fertility</th><th scope=col>population</th><th scope=col>gdp</th><th scope=col>continent</th><th scope=col>region</th></tr>\n",
       "\t<tr><th></th><th scope=col>&lt;fct&gt;</th><th scope=col>&lt;int&gt;</th><th scope=col>&lt;dbl&gt;</th><th scope=col>&lt;dbl&gt;</th><th scope=col>&lt;dbl&gt;</th><th scope=col>&lt;dbl&gt;</th><th scope=col>&lt;dbl&gt;</th><th scope=col>&lt;fct&gt;</th><th scope=col>&lt;fct&gt;</th></tr>\n",
       "</thead>\n",
       "<tbody>\n",
       "\t<tr><th scope=row>1</th><td>Albania            </td><td>1960</td><td>115</td><td>63</td><td>6.2</td><td>1.6e+06</td><td>     NA</td><td>Europe  </td><td>Southern Europe</td></tr>\n",
       "\t<tr><th scope=row>2</th><td>Algeria            </td><td>1960</td><td>148</td><td>48</td><td>7.7</td><td>1.1e+07</td><td>1.4e+10</td><td>Africa  </td><td>Northern Africa</td></tr>\n",
       "\t<tr><th scope=row>3</th><td>Angola             </td><td>1960</td><td>208</td><td>36</td><td>7.3</td><td>5.3e+06</td><td>     NA</td><td>Africa  </td><td>Middle Africa  </td></tr>\n",
       "\t<tr><th scope=row>4</th><td>Antigua and Barbuda</td><td>1960</td><td> NA</td><td>63</td><td>4.4</td><td>5.5e+04</td><td>     NA</td><td>Americas</td><td>Caribbean      </td></tr>\n",
       "\t<tr><th scope=row>5</th><td>Argentina          </td><td>1960</td><td> 60</td><td>65</td><td>3.1</td><td>2.1e+07</td><td>1.1e+11</td><td>Americas</td><td>South America  </td></tr>\n",
       "\t<tr><th scope=row>6</th><td>Armenia            </td><td>1960</td><td> NA</td><td>67</td><td>4.5</td><td>1.9e+06</td><td>     NA</td><td>Asia    </td><td>Western Asia   </td></tr>\n",
       "</tbody>\n",
       "</table>\n"
      ],
      "text/latex": [
       "A data.frame: 6 × 9\n",
       "\\begin{tabular}{r|lllllllll}\n",
       "  & country & year & infant\\_mortality & life\\_expectancy & fertility & population & gdp & continent & region\\\\\n",
       "  & <fct> & <int> & <dbl> & <dbl> & <dbl> & <dbl> & <dbl> & <fct> & <fct>\\\\\n",
       "\\hline\n",
       "\t1 & Albania             & 1960 & 115 & 63 & 6.2 & 1.6e+06 &      NA & Europe   & Southern Europe\\\\\n",
       "\t2 & Algeria             & 1960 & 148 & 48 & 7.7 & 1.1e+07 & 1.4e+10 & Africa   & Northern Africa\\\\\n",
       "\t3 & Angola              & 1960 & 208 & 36 & 7.3 & 5.3e+06 &      NA & Africa   & Middle Africa  \\\\\n",
       "\t4 & Antigua and Barbuda & 1960 &  NA & 63 & 4.4 & 5.5e+04 &      NA & Americas & Caribbean      \\\\\n",
       "\t5 & Argentina           & 1960 &  60 & 65 & 3.1 & 2.1e+07 & 1.1e+11 & Americas & South America  \\\\\n",
       "\t6 & Armenia             & 1960 &  NA & 67 & 4.5 & 1.9e+06 &      NA & Asia     & Western Asia   \\\\\n",
       "\\end{tabular}\n"
      ],
      "text/markdown": [
       "\n",
       "A data.frame: 6 × 9\n",
       "\n",
       "| <!--/--> | country &lt;fct&gt; | year &lt;int&gt; | infant_mortality &lt;dbl&gt; | life_expectancy &lt;dbl&gt; | fertility &lt;dbl&gt; | population &lt;dbl&gt; | gdp &lt;dbl&gt; | continent &lt;fct&gt; | region &lt;fct&gt; |\n",
       "|---|---|---|---|---|---|---|---|---|---|\n",
       "| 1 | Albania             | 1960 | 115 | 63 | 6.2 | 1.6e+06 |      NA | Europe   | Southern Europe |\n",
       "| 2 | Algeria             | 1960 | 148 | 48 | 7.7 | 1.1e+07 | 1.4e+10 | Africa   | Northern Africa |\n",
       "| 3 | Angola              | 1960 | 208 | 36 | 7.3 | 5.3e+06 |      NA | Africa   | Middle Africa   |\n",
       "| 4 | Antigua and Barbuda | 1960 |  NA | 63 | 4.4 | 5.5e+04 |      NA | Americas | Caribbean       |\n",
       "| 5 | Argentina           | 1960 |  60 | 65 | 3.1 | 2.1e+07 | 1.1e+11 | Americas | South America   |\n",
       "| 6 | Armenia             | 1960 |  NA | 67 | 4.5 | 1.9e+06 |      NA | Asia     | Western Asia    |\n",
       "\n"
      ],
      "text/plain": [
       "  country             year infant_mortality life_expectancy fertility\n",
       "1 Albania             1960 115              63              6.2      \n",
       "2 Algeria             1960 148              48              7.7      \n",
       "3 Angola              1960 208              36              7.3      \n",
       "4 Antigua and Barbuda 1960  NA              63              4.4      \n",
       "5 Argentina           1960  60              65              3.1      \n",
       "6 Armenia             1960  NA              67              4.5      \n",
       "  population gdp     continent region         \n",
       "1 1.6e+06         NA Europe    Southern Europe\n",
       "2 1.1e+07    1.4e+10 Africa    Northern Africa\n",
       "3 5.3e+06         NA Africa    Middle Africa  \n",
       "4 5.5e+04         NA Americas  Caribbean      \n",
       "5 2.1e+07    1.1e+11 Americas  South America  \n",
       "6 1.9e+06         NA Asia      Western Asia   "
      ]
     },
     "metadata": {},
     "output_type": "display_data"
    }
   ],
   "source": [
    "head(gapminder)"
   ]
  },
  {
   "cell_type": "code",
   "execution_count": 12,
   "id": "5786487e",
   "metadata": {},
   "outputs": [
    {
     "name": "stderr",
     "output_type": "stream",
     "text": [
      "Warning message:\n",
      "“Removed 1453 rows containing missing values (position_stack).”\n",
      "ERROR while rich displaying an object: Error: Aesthetics can not vary with a ribbon\n",
      "\n",
      "Traceback:\n",
      "1. FUN(X[[i]], ...)\n",
      "2. tryCatch(withCallingHandlers({\n",
      " .     if (!mime %in% names(repr::mime2repr)) \n",
      " .         stop(\"No repr_* for mimetype \", mime, \" in repr::mime2repr\")\n",
      " .     rpr <- repr::mime2repr[[mime]](obj)\n",
      " .     if (is.null(rpr)) \n",
      " .         return(NULL)\n",
      " .     prepare_content(is.raw(rpr), rpr)\n",
      " . }, error = error_handler), error = outer_handler)\n",
      "3. tryCatchList(expr, classes, parentenv, handlers)\n",
      "4. tryCatchOne(expr, names, parentenv, handlers[[1L]])\n",
      "5. doTryCatch(return(expr), name, parentenv, handler)\n",
      "6. withCallingHandlers({\n",
      " .     if (!mime %in% names(repr::mime2repr)) \n",
      " .         stop(\"No repr_* for mimetype \", mime, \" in repr::mime2repr\")\n",
      " .     rpr <- repr::mime2repr[[mime]](obj)\n",
      " .     if (is.null(rpr)) \n",
      " .         return(NULL)\n",
      " .     prepare_content(is.raw(rpr), rpr)\n",
      " . }, error = error_handler)\n",
      "7. repr::mime2repr[[mime]](obj)\n",
      "8. repr_text.default(obj)\n",
      "9. paste(capture.output(print(obj)), collapse = \"\\n\")\n",
      "10. capture.output(print(obj))\n",
      "11. withVisible(...elt(i))\n",
      "12. print(obj)\n",
      "13. print.ggplot(obj)\n",
      "14. ggplot_gtable(data)\n",
      "15. ggplot_gtable.ggplot_built(data)\n",
      "16. Map(function(l, d) l$draw_geom(d, layout), plot$layers, data)\n",
      "17. mapply(FUN = f, ..., SIMPLIFY = FALSE)\n",
      "18. (function (l, d) \n",
      "  . l$draw_geom(d, layout))(dots[[1L]][[1L]], dots[[2L]][[1L]])\n",
      "19. l$draw_geom(d, layout)\n",
      "20. f(..., self = self)\n",
      "21. self$geom$draw_layer(data, self$computed_geom_params, layout, \n",
      "  .     layout$coord)\n",
      "22. f(..., self = self)\n",
      "23. lapply(split(data, data$PANEL), function(data) {\n",
      "  .     if (empty(data)) \n",
      "  .         return(zeroGrob())\n",
      "  .     panel_params <- layout$panel_params[[data$PANEL[1]]]\n",
      "  .     do.call(self$draw_panel, args)\n",
      "  . })\n",
      "24. FUN(X[[i]], ...)\n",
      "25. do.call(self$draw_panel, args)\n",
      "26. (structure(function (...) \n",
      "  . f(..., self = self), class = \"ggproto_method\"))(data, panel_params, \n",
      "  .     coord, na.rm = FALSE, outline.type = \"upper\", flipped_aes = FALSE)\n",
      "27. f(..., self = self)\n",
      "28. lapply(groups, function(group) {\n",
      "  .     self$draw_group(group, panel_params, coord, ...)\n",
      "  . })\n",
      "29. FUN(X[[i]], ...)\n",
      "30. self$draw_group(group, panel_params, coord, ...)\n",
      "31. f(...)\n",
      "32. abort(\"Aesthetics can not vary with a ribbon\")\n",
      "33. signal_abort(cnd)\n"
     ]
    },
    {
     "data": {
      "image/png": "[encoded data removed]",
      "text/plain": [
       "plot without title"
      ]
     },
     "metadata": {
      "image/png": {
       "height": 420,
       "width": 420
      }
     },
     "output_type": "display_data"
    }
   ],
   "source": [
    "gapminder %>% \n",
    "ggplot(aes(year, infant_mortality, col = year)) +\n",
    "geom_area()"
   ]
  }
 ],
 "metadata": {
  "kernelspec": {
   "display_name": "R",
   "language": "R",
   "name": "ir"
  },
  "language_info": {
   "codemirror_mode": "r",
   "file_extension": ".r",
   "mimetype": "text/x-r-source",
   "name": "R",
   "pygments_lexer": "r",
   "version": "4.1.2"
  }
 },
 "nbformat": 4,
 "nbformat_minor": 5
}

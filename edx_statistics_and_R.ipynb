{
 "cells": [
  {
   "cell_type": "code",
   "execution_count": 1,
   "id": "dea91e0b",
   "metadata": {
    "collapsed": true
   },
   "outputs": [
    {
     "name": "stderr",
     "output_type": "stream",
     "text": [
      "\n",
      "Attaching package: ‘dplyr’\n",
      "\n",
      "\n",
      "The following objects are masked from ‘package:stats’:\n",
      "\n",
      "    filter, lag\n",
      "\n",
      "\n",
      "The following objects are masked from ‘package:base’:\n",
      "\n",
      "    intersect, setdiff, setequal, union\n",
      "\n",
      "\n",
      "── \u001b[1mAttaching packages\u001b[22m ─────────────────────────────────────── tidyverse 1.3.1 ──\n",
      "\n",
      "\u001b[32m✔\u001b[39m \u001b[34mggplot2\u001b[39m 3.3.5     \u001b[32m✔\u001b[39m \u001b[34mpurrr  \u001b[39m 0.3.4\n",
      "\u001b[32m✔\u001b[39m \u001b[34mtibble \u001b[39m 3.1.6     \u001b[32m✔\u001b[39m \u001b[34mstringr\u001b[39m 1.4.0\n",
      "\u001b[32m✔\u001b[39m \u001b[34mtidyr  \u001b[39m 1.1.4     \u001b[32m✔\u001b[39m \u001b[34mforcats\u001b[39m 0.5.1\n",
      "\u001b[32m✔\u001b[39m \u001b[34mreadr  \u001b[39m 2.1.1     \n",
      "\n",
      "── \u001b[1mConflicts\u001b[22m ────────────────────────────────────────── tidyverse_conflicts() ──\n",
      "\u001b[31m✖\u001b[39m \u001b[34mdplyr\u001b[39m::\u001b[32mfilter()\u001b[39m masks \u001b[34mstats\u001b[39m::filter()\n",
      "\u001b[31m✖\u001b[39m \u001b[34mdplyr\u001b[39m::\u001b[32mlag()\u001b[39m    masks \u001b[34mstats\u001b[39m::lag()\n",
      "\n"
     ]
    }
   ],
   "source": [
    "library(dplyr)\n",
    "library(tidyverse)\n",
    "library(downloader)\n",
    "library(dslabs)\n",
    "library(dplyr)\n",
    "data(nym.2002, package=\"UsingR\")\n"
   ]
  },
  {
   "cell_type": "code",
   "execution_count": 17,
   "id": "5aa0ad30",
   "metadata": {
    "collapsed": true
   },
   "outputs": [
    {
     "data": {
      "text/html": [
       "<table class=\"dataframe\">\n",
       "<caption>A data.frame: 708 × 1</caption>\n",
       "<thead>\n",
       "\t<tr><th></th><th scope=col>time</th></tr>\n",
       "\t<tr><th></th><th scope=col>&lt;dbl&gt;</th></tr>\n",
       "</thead>\n",
       "<tbody>\n",
       "\t<tr><th scope=row>3475</th><td>217.4833</td></tr>\n",
       "\t<tr><th scope=row>12012</th><td>265.2833</td></tr>\n",
       "\t<tr><th scope=row>9476</th><td>252.2500</td></tr>\n",
       "\t<tr><th scope=row>1720</th><td>201.9667</td></tr>\n",
       "\t<tr><th scope=row>10580</th><td>255.8833</td></tr>\n",
       "\t<tr><th scope=row>11957</th><td>264.2500</td></tr>\n",
       "\t<tr><th scope=row>18933</th><td>306.6833</td></tr>\n",
       "\t<tr><th scope=row>14987</th><td>280.2500</td></tr>\n",
       "\t<tr><th scope=row>10447</th><td>258.3333</td></tr>\n",
       "\t<tr><th scope=row>10435</th><td>257.1333</td></tr>\n",
       "\t<tr><th scope=row>191</th><td>163.9333</td></tr>\n",
       "\t<tr><th scope=row>9962</th><td>253.6167</td></tr>\n",
       "\t<tr><th scope=row>2379</th><td>206.2667</td></tr>\n",
       "\t<tr><th scope=row>10505</th><td>257.9333</td></tr>\n",
       "\t<tr><th scope=row>11853</th><td>262.1333</td></tr>\n",
       "\t<tr><th scope=row>2633</th><td>209.7333</td></tr>\n",
       "\t<tr><th scope=row>11935</th><td>265.2500</td></tr>\n",
       "\t<tr><th scope=row>20116</th><td>315.2333</td></tr>\n",
       "\t<tr><th scope=row>23043</th><td>414.7000</td></tr>\n",
       "\t<tr><th scope=row>17363</th><td>295.3167</td></tr>\n",
       "\t<tr><th scope=row>17611</th><td>294.8333</td></tr>\n",
       "\t<tr><th scope=row>9935</th><td>254.2500</td></tr>\n",
       "\t<tr><th scope=row>8713</th><td>248.9500</td></tr>\n",
       "\t<tr><th scope=row>204</th><td>164.5000</td></tr>\n",
       "\t<tr><th scope=row>2624</th><td>210.9000</td></tr>\n",
       "\t<tr><th scope=row>14357</th><td>271.0667</td></tr>\n",
       "\t<tr><th scope=row>4583</th><td>226.4667</td></tr>\n",
       "\t<tr><th scope=row>10059</th><td>256.7167</td></tr>\n",
       "\t<tr><th scope=row>12379</th><td>264.8333</td></tr>\n",
       "\t<tr><th scope=row>3633</th><td>219.1333</td></tr>\n",
       "\t<tr><th scope=row>⋮</th><td>⋮</td></tr>\n",
       "\t<tr><th scope=row>17924</th><td>298.7667</td></tr>\n",
       "\t<tr><th scope=row>1405</th><td>197.8833</td></tr>\n",
       "\t<tr><th scope=row>9570</th><td>253.9833</td></tr>\n",
       "\t<tr><th scope=row>14234</th><td>272.5000</td></tr>\n",
       "\t<tr><th scope=row>100</th><td>156.0000</td></tr>\n",
       "\t<tr><th scope=row>7027</th><td>239.8000</td></tr>\n",
       "\t<tr><th scope=row>17430</th><td>292.4833</td></tr>\n",
       "\t<tr><th scope=row>11981</th><td>264.1167</td></tr>\n",
       "\t<tr><th scope=row>15236</th><td>281.4000</td></tr>\n",
       "\t<tr><th scope=row>20863</th><td>331.7000</td></tr>\n",
       "\t<tr><th scope=row>6238</th><td>235.8000</td></tr>\n",
       "\t<tr><th scope=row>22642</th><td>376.6500</td></tr>\n",
       "\t<tr><th scope=row>15733</th><td>284.3167</td></tr>\n",
       "\t<tr><th scope=row>22691</th><td>380.6833</td></tr>\n",
       "\t<tr><th scope=row>20188</th><td>316.8167</td></tr>\n",
       "\t<tr><th scope=row>9151</th><td>251.5833</td></tr>\n",
       "\t<tr><th scope=row>2200</th><td>206.1333</td></tr>\n",
       "\t<tr><th scope=row>17945</th><td>298.4000</td></tr>\n",
       "\t<tr><th scope=row>13982</th><td>275.5500</td></tr>\n",
       "\t<tr><th scope=row>13403</th><td>270.2833</td></tr>\n",
       "\t<tr><th scope=row>1595</th><td>200.5500</td></tr>\n",
       "\t<tr><th scope=row>15869</th><td>285.2500</td></tr>\n",
       "\t<tr><th scope=row>20530</th><td>324.6667</td></tr>\n",
       "\t<tr><th scope=row>13981</th><td>273.7000</td></tr>\n",
       "\t<tr><th scope=row>1038</th><td>191.3167</td></tr>\n",
       "\t<tr><th scope=row>13752</th><td>273.0333</td></tr>\n",
       "\t<tr><th scope=row>4079</th><td>223.3333</td></tr>\n",
       "\t<tr><th scope=row>15972</th><td>285.8833</td></tr>\n",
       "\t<tr><th scope=row>1090</th><td>191.9167</td></tr>\n",
       "\t<tr><th scope=row>8527</th><td>240.9667</td></tr>\n",
       "</tbody>\n",
       "</table>\n"
      ],
      "text/latex": [
       "A data.frame: 708 × 1\n",
       "\\begin{tabular}{r|l}\n",
       "  & time\\\\\n",
       "  & <dbl>\\\\\n",
       "\\hline\n",
       "\t3475 & 217.4833\\\\\n",
       "\t12012 & 265.2833\\\\\n",
       "\t9476 & 252.2500\\\\\n",
       "\t1720 & 201.9667\\\\\n",
       "\t10580 & 255.8833\\\\\n",
       "\t11957 & 264.2500\\\\\n",
       "\t18933 & 306.6833\\\\\n",
       "\t14987 & 280.2500\\\\\n",
       "\t10447 & 258.3333\\\\\n",
       "\t10435 & 257.1333\\\\\n",
       "\t191 & 163.9333\\\\\n",
       "\t9962 & 253.6167\\\\\n",
       "\t2379 & 206.2667\\\\\n",
       "\t10505 & 257.9333\\\\\n",
       "\t11853 & 262.1333\\\\\n",
       "\t2633 & 209.7333\\\\\n",
       "\t11935 & 265.2500\\\\\n",
       "\t20116 & 315.2333\\\\\n",
       "\t23043 & 414.7000\\\\\n",
       "\t17363 & 295.3167\\\\\n",
       "\t17611 & 294.8333\\\\\n",
       "\t9935 & 254.2500\\\\\n",
       "\t8713 & 248.9500\\\\\n",
       "\t204 & 164.5000\\\\\n",
       "\t2624 & 210.9000\\\\\n",
       "\t14357 & 271.0667\\\\\n",
       "\t4583 & 226.4667\\\\\n",
       "\t10059 & 256.7167\\\\\n",
       "\t12379 & 264.8333\\\\\n",
       "\t3633 & 219.1333\\\\\n",
       "\t⋮ & ⋮\\\\\n",
       "\t17924 & 298.7667\\\\\n",
       "\t1405 & 197.8833\\\\\n",
       "\t9570 & 253.9833\\\\\n",
       "\t14234 & 272.5000\\\\\n",
       "\t100 & 156.0000\\\\\n",
       "\t7027 & 239.8000\\\\\n",
       "\t17430 & 292.4833\\\\\n",
       "\t11981 & 264.1167\\\\\n",
       "\t15236 & 281.4000\\\\\n",
       "\t20863 & 331.7000\\\\\n",
       "\t6238 & 235.8000\\\\\n",
       "\t22642 & 376.6500\\\\\n",
       "\t15733 & 284.3167\\\\\n",
       "\t22691 & 380.6833\\\\\n",
       "\t20188 & 316.8167\\\\\n",
       "\t9151 & 251.5833\\\\\n",
       "\t2200 & 206.1333\\\\\n",
       "\t17945 & 298.4000\\\\\n",
       "\t13982 & 275.5500\\\\\n",
       "\t13403 & 270.2833\\\\\n",
       "\t1595 & 200.5500\\\\\n",
       "\t15869 & 285.2500\\\\\n",
       "\t20530 & 324.6667\\\\\n",
       "\t13981 & 273.7000\\\\\n",
       "\t1038 & 191.3167\\\\\n",
       "\t13752 & 273.0333\\\\\n",
       "\t4079 & 223.3333\\\\\n",
       "\t15972 & 285.8833\\\\\n",
       "\t1090 & 191.9167\\\\\n",
       "\t8527 & 240.9667\\\\\n",
       "\\end{tabular}\n"
      ],
      "text/markdown": [
       "\n",
       "A data.frame: 708 × 1\n",
       "\n",
       "| <!--/--> | time &lt;dbl&gt; |\n",
       "|---|---|\n",
       "| 3475 | 217.4833 |\n",
       "| 12012 | 265.2833 |\n",
       "| 9476 | 252.2500 |\n",
       "| 1720 | 201.9667 |\n",
       "| 10580 | 255.8833 |\n",
       "| 11957 | 264.2500 |\n",
       "| 18933 | 306.6833 |\n",
       "| 14987 | 280.2500 |\n",
       "| 10447 | 258.3333 |\n",
       "| 10435 | 257.1333 |\n",
       "| 191 | 163.9333 |\n",
       "| 9962 | 253.6167 |\n",
       "| 2379 | 206.2667 |\n",
       "| 10505 | 257.9333 |\n",
       "| 11853 | 262.1333 |\n",
       "| 2633 | 209.7333 |\n",
       "| 11935 | 265.2500 |\n",
       "| 20116 | 315.2333 |\n",
       "| 23043 | 414.7000 |\n",
       "| 17363 | 295.3167 |\n",
       "| 17611 | 294.8333 |\n",
       "| 9935 | 254.2500 |\n",
       "| 8713 | 248.9500 |\n",
       "| 204 | 164.5000 |\n",
       "| 2624 | 210.9000 |\n",
       "| 14357 | 271.0667 |\n",
       "| 4583 | 226.4667 |\n",
       "| 10059 | 256.7167 |\n",
       "| 12379 | 264.8333 |\n",
       "| 3633 | 219.1333 |\n",
       "| ⋮ | ⋮ |\n",
       "| 17924 | 298.7667 |\n",
       "| 1405 | 197.8833 |\n",
       "| 9570 | 253.9833 |\n",
       "| 14234 | 272.5000 |\n",
       "| 100 | 156.0000 |\n",
       "| 7027 | 239.8000 |\n",
       "| 17430 | 292.4833 |\n",
       "| 11981 | 264.1167 |\n",
       "| 15236 | 281.4000 |\n",
       "| 20863 | 331.7000 |\n",
       "| 6238 | 235.8000 |\n",
       "| 22642 | 376.6500 |\n",
       "| 15733 | 284.3167 |\n",
       "| 22691 | 380.6833 |\n",
       "| 20188 | 316.8167 |\n",
       "| 9151 | 251.5833 |\n",
       "| 2200 | 206.1333 |\n",
       "| 17945 | 298.4000 |\n",
       "| 13982 | 275.5500 |\n",
       "| 13403 | 270.2833 |\n",
       "| 1595 | 200.5500 |\n",
       "| 15869 | 285.2500 |\n",
       "| 20530 | 324.6667 |\n",
       "| 13981 | 273.7000 |\n",
       "| 1038 | 191.3167 |\n",
       "| 13752 | 273.0333 |\n",
       "| 4079 | 223.3333 |\n",
       "| 15972 | 285.8833 |\n",
       "| 1090 | 191.9167 |\n",
       "| 8527 | 240.9667 |\n",
       "\n"
      ],
      "text/plain": [
       "      time    \n",
       "3475  217.4833\n",
       "12012 265.2833\n",
       "9476  252.2500\n",
       "1720  201.9667\n",
       "10580 255.8833\n",
       "11957 264.2500\n",
       "18933 306.6833\n",
       "14987 280.2500\n",
       "10447 258.3333\n",
       "10435 257.1333\n",
       "191   163.9333\n",
       "9962  253.6167\n",
       "2379  206.2667\n",
       "10505 257.9333\n",
       "11853 262.1333\n",
       "2633  209.7333\n",
       "11935 265.2500\n",
       "20116 315.2333\n",
       "23043 414.7000\n",
       "17363 295.3167\n",
       "17611 294.8333\n",
       "9935  254.2500\n",
       "8713  248.9500\n",
       "204   164.5000\n",
       "2624  210.9000\n",
       "14357 271.0667\n",
       "4583  226.4667\n",
       "10059 256.7167\n",
       "12379 264.8333\n",
       "3633  219.1333\n",
       "⋮     ⋮       \n",
       "17924 298.7667\n",
       "1405  197.8833\n",
       "9570  253.9833\n",
       "14234 272.5000\n",
       "100   156.0000\n",
       "7027  239.8000\n",
       "17430 292.4833\n",
       "11981 264.1167\n",
       "15236 281.4000\n",
       "20863 331.7000\n",
       "6238  235.8000\n",
       "22642 376.6500\n",
       "15733 284.3167\n",
       "22691 380.6833\n",
       "20188 316.8167\n",
       "9151  251.5833\n",
       "2200  206.1333\n",
       "17945 298.4000\n",
       "13982 275.5500\n",
       "13403 270.2833\n",
       "1595  200.5500\n",
       "15869 285.2500\n",
       "20530 324.6667\n",
       "13981 273.7000\n",
       "1038  191.3167\n",
       "13752 273.0333\n",
       "4079  223.3333\n",
       "15972 285.8833\n",
       "1090  191.9167\n",
       "8527  240.9667"
      ]
     },
     "metadata": {},
     "output_type": "display_data"
    }
   ],
   "source": [
    "male <- nym.2002 %>% \n",
    "filter(gender == \"Male\")\n",
    "female <- nym.2002 %>%\n",
    "filter(gender == \"Female\")"
   ]
  },
  {
   "cell_type": "code",
   "execution_count": 21,
   "id": "7cc3565e",
   "metadata": {},
   "outputs": [
    {
     "data": {
      "image/png": "[encoded data removed]",
      "text/plain": [
       "plot without title"
      ]
     },
     "metadata": {
      "image/png": {
       "height": 420,
       "width": 420
      }
     },
     "output_type": "display_data"
    },
    {
     "data": {
      "image/png": "[encoded data removed]",
      "text/plain": [
       "plot without title"
      ]
     },
     "metadata": {
      "image/png": {
       "height": 420,
       "width": 420
      }
     },
     "output_type": "display_data"
    }
   ],
   "source": [
    "boxplot(male$time)\n",
    "boxplot(female$time)\n",
    "hist(male$time)\n",
    "hist"
   ]
  },
  {
   "cell_type": "code",
   "execution_count": 3,
   "id": "f223ec81",
   "metadata": {},
   "outputs": [
    {
     "data": {
      "text/html": [
       "<table class=\"dataframe\">\n",
       "<caption>A data.frame: 6 × 5</caption>\n",
       "<thead>\n",
       "\t<tr><th></th><th scope=col>place</th><th scope=col>gender</th><th scope=col>age</th><th scope=col>home</th><th scope=col>time</th></tr>\n",
       "\t<tr><th></th><th scope=col>&lt;dbl&gt;</th><th scope=col>&lt;fct&gt;</th><th scope=col>&lt;dbl&gt;</th><th scope=col>&lt;fct&gt;</th><th scope=col>&lt;dbl&gt;</th></tr>\n",
       "</thead>\n",
       "<tbody>\n",
       "\t<tr><th scope=row>3475</th><td> 3592</td><td>Male  </td><td>52</td><td>GBR</td><td>217.4833</td></tr>\n",
       "\t<tr><th scope=row>13594</th><td>13853</td><td>Female</td><td>40</td><td>NY </td><td>272.5500</td></tr>\n",
       "\t<tr><th scope=row>12012</th><td>12256</td><td>Male  </td><td>31</td><td>FRA</td><td>265.2833</td></tr>\n",
       "\t<tr><th scope=row>10236</th><td>10457</td><td>Female</td><td>33</td><td>MI </td><td>256.1500</td></tr>\n",
       "\t<tr><th scope=row>9476</th><td> 9686</td><td>Male  </td><td>33</td><td>NY </td><td>252.2500</td></tr>\n",
       "\t<tr><th scope=row>1720</th><td> 1784</td><td>Male  </td><td>40</td><td>NJ </td><td>201.9667</td></tr>\n",
       "</tbody>\n",
       "</table>\n"
      ],
      "text/latex": [
       "A data.frame: 6 × 5\n",
       "\\begin{tabular}{r|lllll}\n",
       "  & place & gender & age & home & time\\\\\n",
       "  & <dbl> & <fct> & <dbl> & <fct> & <dbl>\\\\\n",
       "\\hline\n",
       "\t3475 &  3592 & Male   & 52 & GBR & 217.4833\\\\\n",
       "\t13594 & 13853 & Female & 40 & NY  & 272.5500\\\\\n",
       "\t12012 & 12256 & Male   & 31 & FRA & 265.2833\\\\\n",
       "\t10236 & 10457 & Female & 33 & MI  & 256.1500\\\\\n",
       "\t9476 &  9686 & Male   & 33 & NY  & 252.2500\\\\\n",
       "\t1720 &  1784 & Male   & 40 & NJ  & 201.9667\\\\\n",
       "\\end{tabular}\n"
      ],
      "text/markdown": [
       "\n",
       "A data.frame: 6 × 5\n",
       "\n",
       "| <!--/--> | place &lt;dbl&gt; | gender &lt;fct&gt; | age &lt;dbl&gt; | home &lt;fct&gt; | time &lt;dbl&gt; |\n",
       "|---|---|---|---|---|---|\n",
       "| 3475 |  3592 | Male   | 52 | GBR | 217.4833 |\n",
       "| 13594 | 13853 | Female | 40 | NY  | 272.5500 |\n",
       "| 12012 | 12256 | Male   | 31 | FRA | 265.2833 |\n",
       "| 10236 | 10457 | Female | 33 | MI  | 256.1500 |\n",
       "| 9476 |  9686 | Male   | 33 | NY  | 252.2500 |\n",
       "| 1720 |  1784 | Male   | 40 | NJ  | 201.9667 |\n",
       "\n"
      ],
      "text/plain": [
       "      place gender age home time    \n",
       "3475   3592 Male   52  GBR  217.4833\n",
       "13594 13853 Female 40  NY   272.5500\n",
       "12012 12256 Male   31  FRA  265.2833\n",
       "10236 10457 Female 33  MI   256.1500\n",
       "9476   9686 Male   33  NY   252.2500\n",
       "1720   1784 Male   40  NJ   201.9667"
      ]
     },
     "metadata": {},
     "output_type": "display_data"
    }
   ],
   "source": [
    "head(nym.2002)"
   ]
  },
  {
   "cell_type": "code",
   "execution_count": null,
   "id": "ead2b651",
   "metadata": {},
   "outputs": [],
   "source": []
  },
  {
   "cell_type": "code",
   "execution_count": null,
   "id": "fdaa9bb7",
   "metadata": {},
   "outputs": [],
   "source": []
  },
  {
   "cell_type": "code",
   "execution_count": 10,
   "id": "54c18196",
   "metadata": {},
   "outputs": [
    {
     "data": {
      "text/html": [
       "0"
      ],
      "text/latex": [
       "0"
      ],
      "text/markdown": [
       "0"
      ],
      "text/plain": [
       "[1] 0"
      ]
     },
     "metadata": {},
     "output_type": "display_data"
    }
   ],
   "source": []
  }
 ],
 "metadata": {
  "kernelspec": {
   "display_name": "R",
   "language": "R",
   "name": "ir"
  },
  "language_info": {
   "codemirror_mode": "r",
   "file_extension": ".r",
   "mimetype": "text/x-r-source",
   "name": "R",
   "pygments_lexer": "r",
   "version": "4.1.2"
  }
 },
 "nbformat": 4,
 "nbformat_minor": 5
}

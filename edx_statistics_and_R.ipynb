{
 "cells": [
  {
   "cell_type": "code",
   "execution_count": 13,
   "id": "dea91e0b",
   "metadata": {},
   "outputs": [],
   "source": [
    "library(dplyr)\n",
    "library(tidyverse)\n",
    "library(downloader)\n",
    "library(dslabs)\n",
    "library(dplyr)\n",
    "library(rafalib)\n",
    "options(digits = 2)\n",
    "save.image()"
   ]
  },
  {
   "cell_type": "code",
   "execution_count": 10,
   "id": "ead2b651",
   "metadata": {},
   "outputs": [],
   "source": [
    "url <- \"https://raw.githubusercontent.com/genomicsclass/dagdata/master/inst/extdata/femaleControlsPopulation.csv\"\n",
    "filename <- basename(url)\n",
    "download(url, destfile=filename)\n",
    "x <- unlist( read.csv(filename))"
   ]
  },
  {
   "cell_type": "code",
   "execution_count": 11,
   "id": "fdaa9bb7",
   "metadata": {},
   "outputs": [
    {
     "data": {
      "text/html": [
       "2.99867"
      ],
      "text/latex": [
       "2.99867"
      ],
      "text/markdown": [
       "2.99867"
      ],
      "text/plain": [
       "[1] 3"
      ]
     },
     "metadata": {},
     "output_type": "display_data"
    }
   ],
   "source": [
    "set.seed(1)\n",
    "obs <- mean(x)\n",
    "n <- 1000\n",
    "null <- vector(\"numeric\", n)\n",
    "a <- sample(5, n, replace = T)\n",
    "for(i in 1:n){\n",
    "    a <- sample(5, n, replace = T)\n",
    "    null[i] <- mean(a)\n",
    "    \n",
    "}\n",
    "mean(null)"
   ]
  },
  {
   "cell_type": "code",
   "execution_count": 10,
   "id": "54c18196",
   "metadata": {},
   "outputs": [
    {
     "data": {
      "text/html": [
       "0"
      ],
      "text/latex": [
       "0"
      ],
      "text/markdown": [
       "0"
      ],
      "text/plain": [
       "[1] 0"
      ]
     },
     "metadata": {},
     "output_type": "display_data"
    }
   ],
   "source": []
  }
 ],
 "metadata": {
  "kernelspec": {
   "display_name": "R",
   "language": "R",
   "name": "ir"
  },
  "language_info": {
   "codemirror_mode": "r",
   "file_extension": ".r",
   "mimetype": "text/x-r-source",
   "name": "R",
   "pygments_lexer": "r",
   "version": "4.1.2"
  }
 },
 "nbformat": 4,
 "nbformat_minor": 5
}
